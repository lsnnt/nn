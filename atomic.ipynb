{
  "nbformat": 4,
  "nbformat_minor": 0,
  "metadata": {
    "colab": {
      "name": "atomic.ipynb",
      "provenance": [],
      "collapsed_sections": [],
      "authorship_tag": "ABX9TyMEpq+frVO/CnyfA+aTvvl5",
      "include_colab_link": true
    },
    "kernelspec": {
      "name": "python3",
      "display_name": "Python 3"
    },
    "language_info": {
      "name": "python"
    }
  },
  "cells": [
    {
      "cell_type": "markdown",
      "metadata": {
        "id": "view-in-github",
        "colab_type": "text"
      },
      "source": [
        "<a href=\"https://colab.research.google.com/github/nityanand86876/nn/blob/main/atomic.ipynb\" target=\"_parent\"><img src=\"https://colab.research.google.com/assets/colab-badge.svg\" alt=\"Open In Colab\"/></a>"
      ]
    },
    {
      "cell_type": "code",
      "metadata": {
        "colab": {
          "base_uri": "https://localhost:8080/"
        },
        "id": "MUffmGZe3X96",
        "outputId": "e30fbfcb-a2e0-4796-a0fa-d1451212af3e"
      },
      "source": [
        "\n",
        "#@markdown ### Select atomic number and run this to get more details about that element.\n",
        "atomic_number = 5  #@param {type: \"slider\", min: 1, max: 60}\n",
        "import requests\n",
        "x = requests.get(\"https://ptable.cf/\"+str(atomic_number)+\".json\")\n",
        "x.json()\n"
      ],
      "execution_count": 16,
      "outputs": [
        {
          "output_type": "execute_result",
          "data": {
            "text/plain": [
              "{'abundance': {'crust': '0.00019',\n",
              "  'human': '4.0e-8',\n",
              "  'meteor': '2.9e-6',\n",
              "  'ocean': '6.0e-11',\n",
              "  'solar': '1.0e-8',\n",
              "  'universe': '1.00e-7'},\n",
              " 'affinity': '0',\n",
              " 'atomic': '4',\n",
              " 'boil': '2743.',\n",
              " 'conductivity': {'electric': '25', 'thermal': '190'},\n",
              " 'density': {'liquid': '1690.', 'stp': '1848.'},\n",
              " 'discover': '1797',\n",
              " 'electroneg': '1.57',\n",
              " 'electrons': [2, 2],\n",
              " 'electronstring': '[He] 2s2',\n",
              " 'expandedconfig': '1s2 2s2',\n",
              " 'hardness': {'brinell': '600', 'mohs': '5.5', 'vickers': '1670'},\n",
              " 'heat': {'fusion': '7.95', 'specific': '1820', 'vaporization': '297'},\n",
              " 'ionize': {'1': '899.5', '2': '1757.1', '3': '14848.7', '4': '21006.6'},\n",
              " 'isotopes': 12,\n",
              " 'melt': '1560.',\n",
              " 'modulus': {'bulk': '130', 'shear': '132', 'young': '287'},\n",
              " 'name': 'Beryllium',\n",
              " 'oxidation': '1,2c',\n",
              " 'quantum': {'l': 0, 'm': 0, 'n': 2},\n",
              " 'radius': {'calculated': '112', 'covalent': '90', 'empirical': '105'},\n",
              " 'series': 'Alkaline',\n",
              " 'symbol': 'Be',\n",
              " 'valence': '2',\n",
              " 'weight': '9.0121831'}"
            ]
          },
          "metadata": {},
          "execution_count": 16
        }
      ]
    }
  ]
}